{
  "nbformat": 4,
  "nbformat_minor": 0,
  "metadata": {
    "colab": {
      "name": "text_to_speech_using_python.ipynb",
      "provenance": [],
      "collapsed_sections": []
    },
    "kernelspec": {
      "name": "python3",
      "display_name": "Python 3"
    }
  },
  "cells": [
    {
      "cell_type": "code",
      "metadata": {
        "id": "iFYna7CCFU50",
        "colab_type": "code",
        "colab": {
          "base_uri": "https://localhost:8080/",
          "height": 85
        },
        "outputId": "49ab97d8-4a37-40db-bd56-5c0b23478903"
      },
      "source": [
        "#pip install pyttsx3"
      ],
      "execution_count": 1,
      "outputs": [
        {
          "output_type": "stream",
          "text": [
            "Collecting pyttsx3\n",
            "  Downloading https://files.pythonhosted.org/packages/33/9a/de4781245f5ad966646fd276259ef7cfd400ba3cf7d5db7c0d5aab310c20/pyttsx3-2.90-py3-none-any.whl\n",
            "Installing collected packages: pyttsx3\n",
            "Successfully installed pyttsx3-2.90\n"
          ],
          "name": "stdout"
        }
      ]
    },
    {
      "cell_type": "code",
      "metadata": {
        "id": "969x_Dp2GYYx",
        "colab_type": "code",
        "colab": {}
      },
      "source": [
        "import pyttsx3"
      ],
      "execution_count": 3,
      "outputs": []
    },
    {
      "cell_type": "code",
      "metadata": {
        "id": "CNpCTTuNGUmn",
        "colab_type": "code",
        "colab": {}
      },
      "source": [
        "text_to_speech =  pyttsx3.init()\n",
        "data = input(\"Enter text which you want to convert into speech: \\n\")\n",
        "text_to_speech.say(data)\n",
        "text_to_speech.runAndWait()"
      ],
      "execution_count": null,
      "outputs": []
    }
  ]
}